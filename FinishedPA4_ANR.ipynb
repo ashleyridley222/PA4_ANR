{
 "cells": [
  {
   "cell_type": "code",
   "execution_count": 1,
   "id": "a4a056ec",
   "metadata": {},
   "outputs": [
    {
     "name": "stdout",
     "output_type": "stream",
     "text": [
      "['Monday']\n"
     ]
    }
   ],
   "source": [
    "# Append():adds elements\n",
    "days=list()\n",
    "days.append(\"Monday\")\n",
    "print(days)"
   ]
  },
  {
   "cell_type": "code",
   "execution_count": 2,
   "id": "8bf36648",
   "metadata": {},
   "outputs": [
    {
     "name": "stdout",
     "output_type": "stream",
     "text": [
      "['apple', 'banana', 'cherry', 1, 4, 5, 9]\n"
     ]
    }
   ],
   "source": [
    "#extend():adds elements of a list to the end of the current list \n",
    "fruits = ['apple', 'banana', 'cherry']\n",
    "points = (1, 4, 5, 9)\n",
    "fruits.extend(points)\n",
    "print(fruits)"
   ]
  },
  {
   "cell_type": "code",
   "execution_count": 3,
   "id": "c6f3a306",
   "metadata": {},
   "outputs": [
    {
     "data": {
      "text/plain": [
       "['BMD', 'Honda', 'Mazda']"
      ]
     },
     "execution_count": 3,
     "metadata": {},
     "output_type": "execute_result"
    }
   ],
   "source": [
    " #insert():inserts elemtents\n",
    "cars=[]\n",
    "cars.append('Honda')\n",
    "cars.append('Mazda')\n",
    "cars.insert(0,'BMD')\n",
    "cars"
   ]
  },
  {
   "cell_type": "code",
   "execution_count": 4,
   "id": "271e4e01",
   "metadata": {},
   "outputs": [
    {
     "data": {
      "text/plain": [
       "['Honda', 'Mazda']"
      ]
     },
     "execution_count": 4,
     "metadata": {},
     "output_type": "execute_result"
    }
   ],
   "source": [
    "#remove(): removes an element from a list\n",
    "del cars[0]\n",
    "cars"
   ]
  },
  {
   "cell_type": "code",
   "execution_count": 5,
   "id": "c17cff68",
   "metadata": {},
   "outputs": [
    {
     "name": "stdout",
     "output_type": "stream",
     "text": [
      "3\n"
     ]
    }
   ],
   "source": [
    "#count(): returns the number of times a value appears in a list\n",
    "numbers=[1,2,3,4,5,5,5,6,8,8,]\n",
    "x=numbers.count(5)\n",
    "print(x)"
   ]
  },
  {
   "cell_type": "code",
   "execution_count": 6,
   "id": "1c5bc794",
   "metadata": {},
   "outputs": [
    {
     "name": "stdout",
     "output_type": "stream",
     "text": [
      "1\n"
     ]
    }
   ],
   "source": [
    "#index():returns the position at the first occurence of the specified value\n",
    "fruits=['apple','oranges','bananas','pineapple']\n",
    "list=fruits.index('oranges')\n",
    "print(list)"
   ]
  },
  {
   "cell_type": "code",
   "execution_count": 7,
   "id": "a6ac0394",
   "metadata": {},
   "outputs": [
    {
     "name": "stdout",
     "output_type": "stream",
     "text": [
      "Sorry Sam, Due to some unavoidable situation the dinner invitation cancelled\n"
     ]
    }
   ],
   "source": [
    "#pop():Popping Items from any Position in a List\n",
    "Guest_list= []\n",
    "Guest_list.append('Sam')\n",
    "Guest_list.append('Alisha')\n",
    "name1=Guest_list.pop(0)\n",
    "print('Sorry ' + name1 + ', Due to some unavoidable situation the dinner invitation cancelled')"
   ]
  },
  {
   "cell_type": "code",
   "execution_count": 8,
   "id": "e1bb56a6",
   "metadata": {},
   "outputs": [
    {
     "data": {
      "text/plain": [
       "['Audi', 'Honda', 'Hyundi', 'Mazda']"
      ]
     },
     "execution_count": 8,
     "metadata": {},
     "output_type": "execute_result"
    }
   ],
   "source": [
    "#sorted(): organizes a list, sorts through a list permanently\n",
    "cars=[]\n",
    "cars.append('Honda')\n",
    "cars.append('Mazda')\n",
    "cars.append('Audi')\n",
    "cars.append('Hyundi')\n",
    "cars.sort()\n",
    "cars\n",
    "# sorting through a list temporarily\n",
    "cars\n",
    "sorted(cars)"
   ]
  },
  {
   "cell_type": "code",
   "execution_count": 9,
   "id": "85850e19",
   "metadata": {},
   "outputs": [
    {
     "name": "stdout",
     "output_type": "stream",
     "text": [
      "['Apricot', 'Avocado', 'Kiwi', 'Grapefruit', 'Cherry', 'Strawberry']\n"
     ]
    }
   ],
   "source": [
    "#copy(): creates a copy from and existing list\n",
    "spring_fruits = ['Apricot', 'Avocado', 'Kiwi', 'Grapefruit', 'Cherry', 'Strawberry']\n",
    "summer_fruits = spring_fruits.copy()\n",
    "print(summer_fruits)"
   ]
  },
  {
   "cell_type": "code",
   "execution_count": 10,
   "id": "8fa9bf89",
   "metadata": {},
   "outputs": [
    {
     "name": "stdout",
     "output_type": "stream",
     "text": [
      "[]\n"
     ]
    }
   ],
   "source": [
    " #clear():removes all elements from a list \n",
    "fruits = ['apple', 'banana', 'cherry', 'orange']\n",
    "fruits.clear()\n",
    "print(fruits)"
   ]
  },
  {
   "cell_type": "code",
   "execution_count": 11,
   "id": "e6066be0",
   "metadata": {},
   "outputs": [
    {
     "name": "stdout",
     "output_type": "stream",
     "text": [
      "['Jaelin', 'Ashley', 'Cieayra', 'Nevaeh']\n"
     ]
    }
   ],
   "source": [
    "#list(): creates a selection that can be manipulated \n",
    "list=['Jaelin','Ashley','Cieayra','Nevaeh']\n",
    "print(list)"
   ]
  },
  {
   "cell_type": "markdown",
   "id": "f23c408d",
   "metadata": {},
   "source": [
    "### Tuple built in functions"
   ]
  },
  {
   "cell_type": "code",
   "execution_count": 12,
   "id": "6987743d",
   "metadata": {},
   "outputs": [
    {
     "data": {
      "text/plain": [
       "4"
      ]
     },
     "execution_count": 12,
     "metadata": {},
     "output_type": "execute_result"
    }
   ],
   "source": [
    "#len():finds the length of a list \n",
    "len(cars)"
   ]
  },
  {
   "cell_type": "code",
   "execution_count": 13,
   "id": "39b1a34b",
   "metadata": {},
   "outputs": [
    {
     "data": {
      "text/plain": [
       "67"
      ]
     },
     "execution_count": 13,
     "metadata": {},
     "output_type": "execute_result"
    }
   ],
   "source": [
    "# max(): finds the maxium number with a list of numbers and strings  \n",
    "numbers=[12,45,67,11,1,3]\n",
    "max(numbers)"
   ]
  },
  {
   "cell_type": "code",
   "execution_count": 14,
   "id": "0479ad74",
   "metadata": {},
   "outputs": [
    {
     "data": {
      "text/plain": [
       "1"
      ]
     },
     "execution_count": 14,
     "metadata": {},
     "output_type": "execute_result"
    }
   ],
   "source": [
    " # min():finds the Minimum number with a list of numbers and strings\n",
    "min(numbers)"
   ]
  },
  {
   "cell_type": "markdown",
   "id": "be41a090",
   "metadata": {},
   "source": [
    "### Assignment 2\n",
    "### Ashley Ridley\n",
    "### version 1\n",
    "### fall semester 2022"
   ]
  }
 ],
 "metadata": {
  "kernelspec": {
   "display_name": "Python 3 (ipykernel)",
   "language": "python",
   "name": "python3"
  },
  "language_info": {
   "codemirror_mode": {
    "name": "ipython",
    "version": 3
   },
   "file_extension": ".py",
   "mimetype": "text/x-python",
   "name": "python",
   "nbconvert_exporter": "python",
   "pygments_lexer": "ipython3",
   "version": "3.9.12"
  }
 },
 "nbformat": 4,
 "nbformat_minor": 5
}
